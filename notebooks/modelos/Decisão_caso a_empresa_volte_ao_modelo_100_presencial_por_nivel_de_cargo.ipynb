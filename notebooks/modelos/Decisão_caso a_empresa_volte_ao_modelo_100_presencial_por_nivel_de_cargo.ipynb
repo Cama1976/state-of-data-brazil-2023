{
 "cells": [
  {
   "cell_type": "code",
   "execution_count": 3,
   "id": "938fbf20-3218-4e13-8cda-41791e5a33eb",
   "metadata": {},
   "outputs": [
    {
     "name": "stdout",
     "output_type": "stream",
     "text": [
      "  (P2_g_-_Nivel)  \\\n",
      "0         Junior   \n",
      "1         Junior   \n",
      "2         Junior   \n",
      "3          Pleno   \n",
      "4          Pleno   \n",
      "5          Pleno   \n",
      "6         Senior   \n",
      "7         Senior   \n",
      "8         Senior   \n",
      "\n",
      "  (P2_t_-_Caso_sua_empresa_decida_pelo_modelo_100%_presencial_qual_sera_sua_atitude?)  \\\n",
      "0  Vou procurar outra oportunidade no modelo hibr...                                    \n",
      "1   Vou aceitar e retornar ao modelo 100% presencial                                    \n",
      "2  Vou procurar outra oportunidade no modelo 100%...                                    \n",
      "3  Vou procurar outra oportunidade no modelo hibr...                                    \n",
      "4  Vou procurar outra oportunidade no modelo 100%...                                    \n",
      "5   Vou aceitar e retornar ao modelo 100% presencial                                    \n",
      "6  Vou procurar outra oportunidade no modelo hibr...                                    \n",
      "7  Vou procurar outra oportunidade no modelo 100%...                                    \n",
      "8   Vou aceitar e retornar ao modelo 100% presencial                                    \n",
      "\n",
      "   total  total_percentual  \n",
      "0    477         45.777351  \n",
      "1    328         31.477927  \n",
      "2    237         22.744722  \n",
      "3    608         43.772498  \n",
      "4    470         33.837293  \n",
      "5    311         22.390209  \n",
      "6    589         41.508104  \n",
      "7    576         40.591966  \n",
      "8    254         17.899930  \n"
     ]
    }
   ],
   "source": [
    "import pandas as pd\n",
    "\n",
    "State_of_data_BR_2023 = pd.read_csv(\"../../data/processed/stateOfDataBR2023_tratado.csv\", low_memory=False)\n",
    "\n",
    "df = pd.DataFrame(State_of_data_BR_2023)\n",
    "\n",
    "def calcular_valor_coluna(merged):\n",
    "  merged['total_percentual'] = (merged['total'] / merged['total_nivel']) * 100\n",
    "  return merged\n",
    "\n",
    "#   O código cria um novo DataFrame chamado 'consulta' que contém apenas as linhas que atendem aos critérios\n",
    "#  de filtragem especificados, mantendo apenas as colunas de interesse.\n",
    "consulta = df[\n",
    "       (df['(P2_g_-_Nivel)'].isin(['Junior', 'Pleno', 'Senior'])) &\n",
    "    (df['(P2_t_-_Caso_sua_empresa_decida_pelo_modelo_100%_presencial_qual_sera_sua_atitude?)'].isin([\n",
    "'Vou aceitar e retornar ao modelo 100% presencial','Vou procurar outra oportunidade no modelo 100% remoto','Vou procurar outra oportunidade no modelo hibrido ou remoto'])) &\n",
    "\n",
    "    # Código padrão abaixo.\n",
    "    (df['(P2_a_-_Qual_sua_situacao_atual_de_trabalho?)'].ne('Desempregado, buscando recolocacao')) &\n",
    "    (df['(P2_a_-_Qual_sua_situacao_atual_de_trabalho?)'].ne('Desempregado e nao estou buscando recolocacao')) &\n",
    "    (df['(P2_a_-_Qual_sua_situacao_atual_de_trabalho?)'].ne('Somente Estudante (graduacao)')) &\n",
    "    (df['(P2_a_-_Qual_sua_situacao_atual_de_trabalho?)'].ne('Prefiro nao informar'))\n",
    "    # Código padrão acaba aqui.\n",
    "    ][\n",
    "        [\n",
    "         '(P2_g_-_Nivel)',\n",
    "         '(P2_t_-_Caso_sua_empresa_decida_pelo_modelo_100%_presencial_qual_sera_sua_atitude?)',\n",
    "         '(P2_a_-_Qual_sua_situacao_atual_de_trabalho?)' ]]\n",
    "\n",
    "# # Agrupando por nível e gênero e somando os totais\n",
    "decisao_por_cargo = consulta.groupby('(P2_g_-_Nivel)')['(P2_t_-_Caso_sua_empresa_decida_pelo_modelo_100%_presencial_qual_sera_sua_atitude?)'].value_counts().reset_index(name='total')\n",
    "\n",
    "# Calculando o total por nível\n",
    "totais_por_nivel = decisao_por_cargo.groupby(['(P2_g_-_Nivel)','(P2_t_-_Caso_sua_empresa_decida_pelo_modelo_100%_presencial_qual_sera_sua_atitude?)'])['total'].sum().reset_index()\n",
    "\n",
    "# Renomeando a coluna 'total' para 'total_nivel'\n",
    "totais_por_nivel = decisao_por_cargo.groupby('(P2_g_-_Nivel)')['total'].sum().reset_index()\n",
    "totais_por_nivel.rename(columns={'total': 'total_nivel'}, inplace=True)\n",
    "\n",
    "# # Juntando os totais por nível com o DataFrame agrupado\n",
    "merged = pd.merge(decisao_por_cargo, totais_por_nivel, on='(P2_g_-_Nivel)')\n",
    "\n",
    "# # Calculando a porcentagem\n",
    "merged['percentual'] = (merged['total'] / merged['total_nivel']) * 100\n",
    "calcular_valor_coluna(merged)\n",
    "\n",
    "\n",
    "\n",
    "# # Exibindo o resultado final\n",
    "print(merged[['(P2_g_-_Nivel)','(P2_t_-_Caso_sua_empresa_decida_pelo_modelo_100%_presencial_qual_sera_sua_atitude?)','total', 'total_percentual']])\n"
   ]
  },
  {
   "cell_type": "code",
   "execution_count": null,
   "id": "d78a96b5-009e-403d-a85a-7993c2527d01",
   "metadata": {},
   "outputs": [],
   "source": [
    "import plotly.express as px\n",
    "grafico = px.bar(merged, x='(P2_g_-_Nivel)', y='total_percentual', color='(P2_t_-_Caso_sua_empresa_decida_pelo_modelo_100%_presencial_qual_sera_sua_atitude?)',  title='Modalidade de Trabalho Por Cargo', barmode='group')\n",
    "grafico.show()"
   ]
  },
  {
   "cell_type": "code",
   "execution_count": null,
   "id": "1a1dfe73-1b1b-45df-8dff-49ab72abafb5",
   "metadata": {},
   "outputs": [],
   "source": []
  }
 ],
 "metadata": {
  "kernelspec": {
   "display_name": "Python 3 (ipykernel)",
   "language": "python",
   "name": "python3"
  },
  "language_info": {
   "codemirror_mode": {
    "name": "ipython",
    "version": 3
   },
   "file_extension": ".py",
   "mimetype": "text/x-python",
   "name": "python",
   "nbconvert_exporter": "python",
   "pygments_lexer": "ipython3",
   "version": "3.12.5"
  }
 },
 "nbformat": 4,
 "nbformat_minor": 5
}
