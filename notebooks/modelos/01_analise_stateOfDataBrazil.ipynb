{
 "cells": [
  {
   "cell_type": "markdown",
   "metadata": {
    "colab_type": "text",
    "id": "view-in-github"
   },
   "source": [
    "<a href=\"https://colab.research.google.com/github/wandersonlira/state-of-data-brazil-2023/blob/main/stateOfDataBrazil_analysis.ipynb\" target=\"_parent\"><img src=\"https://colab.research.google.com/assets/colab-badge.svg\" alt=\"Open In Colab\"/></a>"
   ]
  },
  {
   "cell_type": "markdown",
   "metadata": {
    "id": "oEiDlAFKyzN9"
   },
   "source": [
    "### Este bloco de código converte o arquivo para UTF-8 em seguida cria outro arquivo com dados convertidos e salva no formato **.csv**"
   ]
  },
  {
   "cell_type": "code",
   "execution_count": 8,
   "metadata": {
    "id": "z91Hi3sj1bcS"
   },
   "outputs": [],
   "source": [
    "import pandas as pd\n",
    "\n",
    "\n",
    "State_of_data_BR_2023 = pd.read_excel(\"../../data/raw/State_of_data_BR_2023_Kaggle - df_survey_2023 1.xlsx\")\n",
    "\n",
    "tabela = pd.DataFrame(State_of_data_BR_2023)\n",
    "\n",
    "tabela.columns = tabela.columns.str.encode('latin1').str.decode('utf-8')\n",
    "\n",
    "# Converte os dados para UTF-8\n",
    "def converte_texto_para_utf8(celula):\n",
    "    if isinstance(celula, str):\n",
    "        try:\n",
    "            return celula.encode('latin1').decode('utf-8')\n",
    "        except (UnicodeEncodeError, UnicodeDecodeError):\n",
    "            # Se ocorrer um erro, retorna o valor original\n",
    "            return celula\n",
    "    return celula\n",
    "\n",
    "\n",
    "for column in tabela.columns:\n",
    "    tabela[column] = tabela[column].apply(converte_texto_para_utf8)\n",
    "\n",
    "\n",
    "# Salva uma cópia desses dados convertidos\n",
    "tabela.to_csv(\"State_of_data_BR_2023-convertido_UTF8.csv\", encoding='utf-8', index=False)\n",
    "\n",
    "\n"
   ]
  },
  {
   "cell_type": "markdown",
   "metadata": {
    "id": "YXljT3gazcdN"
   },
   "source": [
    "### Bloco de código que retira todo os caracteres especiais do arquivo que foi convertido para UTF-8."
   ]
  },
  {
   "cell_type": "code",
   "execution_count": null,
   "metadata": {
    "id": "OtQL4QA-m-KE"
   },
   "outputs": [],
   "source": [
    "import pandas as pd\n",
    "\n",
    "\n",
    "tabela_convertida = pd.read_csv(\"/content/tabela_convertida.csv\")\n",
    "\n",
    "df = pd.DataFrame(tabela_convertida)\n",
    "\n",
    "\n",
    "# Dicionário de substituições\n",
    "substituicoes = {\n",
    "    'ç': 'c', 'á': 'a', 'é': 'e', 'í': 'i', 'ó': 'o', 'ú': 'u',\n",
    "    'ã': 'a', 'õ': 'o', 'â': 'a', 'ê': 'e', 'ô': 'o', 'à': 'a',\n",
    "    'ü': 'u', 'Ç': 'C', 'Â': 'A', 'Ê': 'E', 'Ô': 'O',\n",
    "    'Á': 'A', 'É': 'E', 'Í': 'I', 'Ó': 'O', 'Ú': 'U'\n",
    "}\n",
    "\n",
    "\n",
    "# Criar uma tabela de tradução\n",
    "tabela_traducao = str.maketrans(substituicoes)\n",
    "\n",
    "# Aplicar a tradução a todas as células do DataFrame\n",
    "df = df.applymap(lambda celula: celula.translate(tabela_traducao) if isinstance(celula, str) else celula)\n",
    "\n",
    "\n",
    "# Salva uma cópia desses dados convertidos\n",
    "df.to_csv(\"../../data/processed/stateOfDataBR2023_sem_caracteres_especiais.csv\", encoding='utf-8', index=False)"
   ]
  },
  {
   "cell_type": "markdown",
   "metadata": {
    "id": "-2RKF8PrPazd"
   },
   "source": [
    "### Realizado últimos tratamentos nos títulos das colunas onde foram removidos: espacos em branco e substituído por underline(_), virgula por travessão, aspas simples e removido caracteres especiais."
   ]
  },
  {
   "cell_type": "code",
   "execution_count": null,
   "metadata": {
    "id": "3GDpESyw1ryw"
   },
   "outputs": [],
   "source": [
    "import pandas as pd\n",
    "\n",
    "\n",
    "stateOfDataBR2023 = pd.read_csv(\"/content/stateOfDataBR2023_sem_caracteres_especiais.csv\")\n",
    "\n",
    "df = pd.DataFrame(stateOfDataBR2023)\n",
    "\n",
    "# Dicionário de substituições\n",
    "substituicoes = {\n",
    "    'ç': 'c', 'á': 'a', 'é': 'e', 'í': 'i', 'ó': 'o', 'ú': 'u',\n",
    "    'ã': 'a', 'õ': 'o', 'â': 'a', 'ê': 'e', 'ô': 'o', 'à': 'a',\n",
    "    'ü': 'u', 'Ç': 'C', 'Â': 'A', 'Ê': 'E', 'Ô': 'O',\n",
    "    'Á': 'A', 'É': 'E', 'Í': 'I', 'Ó': 'O', 'Ú': 'U'\n",
    "}\n",
    "\n",
    "# Criar uma tabela de tradução\n",
    "tabela_traducao = str.maketrans(substituicoes)\n",
    "\n",
    "# Aplicar a substituição dos caracteres especiais por normal no DataFrame\n",
    "df.rename(columns=lambda coluna: coluna.translate(tabela_traducao), inplace=True)\n",
    "\n",
    "\n",
    "\n",
    "# Remove aspas simples e virgulas presente na coluna.\n",
    "df.columns = df.columns.str.replace(\"'\", \"\").str.replace(\",\", \"-\").str.replace(\" \", \"_\")\n",
    "\n",
    "\n",
    "df.to_csv(\"../../data/processed/stateOfDataBR2023_tratado.csv\", encoding='utf-8', index=False)\n",
    "\n"
   ]
  }
 ],
 "metadata": {
  "colab": {
   "include_colab_link": true,
   "provenance": []
  },
  "kernelspec": {
   "display_name": "Python 3 (ipykernel)",
   "language": "python",
   "name": "python3"
  },
  "language_info": {
   "codemirror_mode": {
    "name": "ipython",
    "version": 3
   },
   "file_extension": ".py",
   "mimetype": "text/x-python",
   "name": "python",
   "nbconvert_exporter": "python",
   "pygments_lexer": "ipython3",
   "version": "3.12.3"
  }
 },
 "nbformat": 4,
 "nbformat_minor": 4
}
